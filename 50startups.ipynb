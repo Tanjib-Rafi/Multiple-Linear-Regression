{
  "nbformat": 4,
  "nbformat_minor": 0,
  "metadata": {
    "colab": {
      "name": "50startups.ipynb",
      "provenance": [],
      "authorship_tag": "ABX9TyMJklPyFhJyDnlLjgfJl9d2",
      "include_colab_link": true
    },
    "kernelspec": {
      "name": "python3",
      "display_name": "Python 3"
    },
    "language_info": {
      "name": "python"
    }
  },
  "cells": [
    {
      "cell_type": "markdown",
      "metadata": {
        "id": "view-in-github",
        "colab_type": "text"
      },
      "source": [
        "<a href=\"https://colab.research.google.com/github/Tanjib-Rafi/Multiple-Linear-Regression/blob/main/50startups.ipynb\" target=\"_parent\"><img src=\"https://colab.research.google.com/assets/colab-badge.svg\" alt=\"Open In Colab\"/></a>"
      ]
    },
    {
      "cell_type": "code",
      "execution_count": 85,
      "metadata": {
        "colab": {
          "base_uri": "https://localhost:8080/"
        },
        "id": "7MP9FLiFkHZn",
        "outputId": "52fbe8d2-1569-4c63-8662-6c0a6ca8fcc1"
      },
      "outputs": [
        {
          "output_type": "stream",
          "name": "stdout",
          "text": [
            "Drive already mounted at /content/drive; to attempt to forcibly remount, call drive.mount(\"/content/drive\", force_remount=True).\n"
          ]
        }
      ],
      "source": [
        "from google.colab import drive\n",
        "drive.mount('/content/drive')"
      ]
    },
    {
      "cell_type": "code",
      "source": [
        "import numpy as np\n",
        "import pandas as pd\n",
        "import sklearn"
      ],
      "metadata": {
        "id": "NQXs1YEYkQC1"
      },
      "execution_count": 86,
      "outputs": []
    },
    {
      "cell_type": "code",
      "source": [
        "dataset = pd.read_csv('/content/drive/MyDrive/datasets/50_Startups.csv')\n",
        "X = dataset.iloc[:, :-1]\n",
        "y = dataset.iloc[:, -1]"
      ],
      "metadata": {
        "id": "kQkEg3QvkSYl"
      },
      "execution_count": 87,
      "outputs": []
    },
    {
      "cell_type": "code",
      "source": [
        "dataset"
      ],
      "metadata": {
        "colab": {
          "base_uri": "https://localhost:8080/",
          "height": 1000
        },
        "id": "7n9Yi1NjDGBF",
        "outputId": "eb503280-7131-481e-b87d-c877eb952a82"
      },
      "execution_count": 88,
      "outputs": [
        {
          "output_type": "execute_result",
          "data": {
            "text/plain": [
              "    R&D Spend  Administration  Marketing Spend       State     Profit\n",
              "0   165349.20       136897.80        471784.10    New York  192261.83\n",
              "1   162597.70       151377.59        443898.53  California  191792.06\n",
              "2   153441.51       101145.55        407934.54     Florida  191050.39\n",
              "3   144372.41       118671.85        383199.62    New York  182901.99\n",
              "4   142107.34        91391.77        366168.42     Florida  166187.94\n",
              "5   131876.90        99814.71        362861.36    New York  156991.12\n",
              "6   134615.46       147198.87        127716.82  California  156122.51\n",
              "7   130298.13       145530.06        323876.68     Florida  155752.60\n",
              "8   120542.52       148718.95        311613.29    New York  152211.77\n",
              "9   123334.88       108679.17        304981.62  California  149759.96\n",
              "10  101913.08       110594.11        229160.95     Florida  146121.95\n",
              "11  100671.96        91790.61        249744.55  California  144259.40\n",
              "12   93863.75       127320.38        249839.44     Florida  141585.52\n",
              "13   91992.39       135495.07        252664.93  California  134307.35\n",
              "14  119943.24       156547.42        256512.92     Florida  132602.65\n",
              "15  114523.61       122616.84        261776.23    New York  129917.04\n",
              "16   78013.11       121597.55        264346.06  California  126992.93\n",
              "17   94657.16       145077.58        282574.31    New York  125370.37\n",
              "18   91749.16       114175.79        294919.57     Florida  124266.90\n",
              "19   86419.70       153514.11             0.00    New York  122776.86\n",
              "20   76253.86       113867.30        298664.47  California  118474.03\n",
              "21   78389.47       153773.43        299737.29    New York  111313.02\n",
              "22   73994.56       122782.75        303319.26     Florida  110352.25\n",
              "23   67532.53       105751.03        304768.73     Florida  108733.99\n",
              "24   77044.01        99281.34        140574.81    New York  108552.04\n",
              "25   64664.71       139553.16        137962.62  California  107404.34\n",
              "26   75328.87       144135.98        134050.07     Florida  105733.54\n",
              "27   72107.60       127864.55        353183.81    New York  105008.31\n",
              "28   66051.52       182645.56        118148.20     Florida  103282.38\n",
              "29   65605.48       153032.06        107138.38    New York  101004.64\n",
              "30   61994.48       115641.28         91131.24     Florida   99937.59\n",
              "31   61136.38       152701.92         88218.23    New York   97483.56\n",
              "32   63408.86       129219.61         46085.25  California   97427.84\n",
              "33   55493.95       103057.49        214634.81     Florida   96778.92\n",
              "34   46426.07       157693.92        210797.67  California   96712.80\n",
              "35   46014.02        85047.44        205517.64    New York   96479.51\n",
              "36   28663.76       127056.21        201126.82     Florida   90708.19\n",
              "37   44069.95        51283.14        197029.42  California   89949.14\n",
              "38   20229.59        65947.93        185265.10    New York   81229.06\n",
              "39   38558.51        82982.09        174999.30  California   81005.76\n",
              "40   28754.33       118546.05        172795.67  California   78239.91\n",
              "41   27892.92        84710.77        164470.71     Florida   77798.83\n",
              "42   23640.93        96189.63        148001.11  California   71498.49\n",
              "43   15505.73       127382.30         35534.17    New York   69758.98\n",
              "44   22177.74       154806.14         28334.72  California   65200.33\n",
              "45    1000.23       124153.04          1903.93    New York   64926.08\n",
              "46    1315.46       115816.21        297114.46     Florida   49490.75\n",
              "47       0.00       135426.92             0.00  California   42559.73\n",
              "48     542.05        51743.15             0.00    New York   35673.41\n",
              "49       0.00       116983.80         45173.06  California   14681.40"
            ],
            "text/html": [
              "\n",
              "  <div id=\"df-4a44a370-8ebc-40c0-bea5-a90aa3ba4e26\">\n",
              "    <div class=\"colab-df-container\">\n",
              "      <div>\n",
              "<style scoped>\n",
              "    .dataframe tbody tr th:only-of-type {\n",
              "        vertical-align: middle;\n",
              "    }\n",
              "\n",
              "    .dataframe tbody tr th {\n",
              "        vertical-align: top;\n",
              "    }\n",
              "\n",
              "    .dataframe thead th {\n",
              "        text-align: right;\n",
              "    }\n",
              "</style>\n",
              "<table border=\"1\" class=\"dataframe\">\n",
              "  <thead>\n",
              "    <tr style=\"text-align: right;\">\n",
              "      <th></th>\n",
              "      <th>R&amp;D Spend</th>\n",
              "      <th>Administration</th>\n",
              "      <th>Marketing Spend</th>\n",
              "      <th>State</th>\n",
              "      <th>Profit</th>\n",
              "    </tr>\n",
              "  </thead>\n",
              "  <tbody>\n",
              "    <tr>\n",
              "      <th>0</th>\n",
              "      <td>165349.20</td>\n",
              "      <td>136897.80</td>\n",
              "      <td>471784.10</td>\n",
              "      <td>New York</td>\n",
              "      <td>192261.83</td>\n",
              "    </tr>\n",
              "    <tr>\n",
              "      <th>1</th>\n",
              "      <td>162597.70</td>\n",
              "      <td>151377.59</td>\n",
              "      <td>443898.53</td>\n",
              "      <td>California</td>\n",
              "      <td>191792.06</td>\n",
              "    </tr>\n",
              "    <tr>\n",
              "      <th>2</th>\n",
              "      <td>153441.51</td>\n",
              "      <td>101145.55</td>\n",
              "      <td>407934.54</td>\n",
              "      <td>Florida</td>\n",
              "      <td>191050.39</td>\n",
              "    </tr>\n",
              "    <tr>\n",
              "      <th>3</th>\n",
              "      <td>144372.41</td>\n",
              "      <td>118671.85</td>\n",
              "      <td>383199.62</td>\n",
              "      <td>New York</td>\n",
              "      <td>182901.99</td>\n",
              "    </tr>\n",
              "    <tr>\n",
              "      <th>4</th>\n",
              "      <td>142107.34</td>\n",
              "      <td>91391.77</td>\n",
              "      <td>366168.42</td>\n",
              "      <td>Florida</td>\n",
              "      <td>166187.94</td>\n",
              "    </tr>\n",
              "    <tr>\n",
              "      <th>5</th>\n",
              "      <td>131876.90</td>\n",
              "      <td>99814.71</td>\n",
              "      <td>362861.36</td>\n",
              "      <td>New York</td>\n",
              "      <td>156991.12</td>\n",
              "    </tr>\n",
              "    <tr>\n",
              "      <th>6</th>\n",
              "      <td>134615.46</td>\n",
              "      <td>147198.87</td>\n",
              "      <td>127716.82</td>\n",
              "      <td>California</td>\n",
              "      <td>156122.51</td>\n",
              "    </tr>\n",
              "    <tr>\n",
              "      <th>7</th>\n",
              "      <td>130298.13</td>\n",
              "      <td>145530.06</td>\n",
              "      <td>323876.68</td>\n",
              "      <td>Florida</td>\n",
              "      <td>155752.60</td>\n",
              "    </tr>\n",
              "    <tr>\n",
              "      <th>8</th>\n",
              "      <td>120542.52</td>\n",
              "      <td>148718.95</td>\n",
              "      <td>311613.29</td>\n",
              "      <td>New York</td>\n",
              "      <td>152211.77</td>\n",
              "    </tr>\n",
              "    <tr>\n",
              "      <th>9</th>\n",
              "      <td>123334.88</td>\n",
              "      <td>108679.17</td>\n",
              "      <td>304981.62</td>\n",
              "      <td>California</td>\n",
              "      <td>149759.96</td>\n",
              "    </tr>\n",
              "    <tr>\n",
              "      <th>10</th>\n",
              "      <td>101913.08</td>\n",
              "      <td>110594.11</td>\n",
              "      <td>229160.95</td>\n",
              "      <td>Florida</td>\n",
              "      <td>146121.95</td>\n",
              "    </tr>\n",
              "    <tr>\n",
              "      <th>11</th>\n",
              "      <td>100671.96</td>\n",
              "      <td>91790.61</td>\n",
              "      <td>249744.55</td>\n",
              "      <td>California</td>\n",
              "      <td>144259.40</td>\n",
              "    </tr>\n",
              "    <tr>\n",
              "      <th>12</th>\n",
              "      <td>93863.75</td>\n",
              "      <td>127320.38</td>\n",
              "      <td>249839.44</td>\n",
              "      <td>Florida</td>\n",
              "      <td>141585.52</td>\n",
              "    </tr>\n",
              "    <tr>\n",
              "      <th>13</th>\n",
              "      <td>91992.39</td>\n",
              "      <td>135495.07</td>\n",
              "      <td>252664.93</td>\n",
              "      <td>California</td>\n",
              "      <td>134307.35</td>\n",
              "    </tr>\n",
              "    <tr>\n",
              "      <th>14</th>\n",
              "      <td>119943.24</td>\n",
              "      <td>156547.42</td>\n",
              "      <td>256512.92</td>\n",
              "      <td>Florida</td>\n",
              "      <td>132602.65</td>\n",
              "    </tr>\n",
              "    <tr>\n",
              "      <th>15</th>\n",
              "      <td>114523.61</td>\n",
              "      <td>122616.84</td>\n",
              "      <td>261776.23</td>\n",
              "      <td>New York</td>\n",
              "      <td>129917.04</td>\n",
              "    </tr>\n",
              "    <tr>\n",
              "      <th>16</th>\n",
              "      <td>78013.11</td>\n",
              "      <td>121597.55</td>\n",
              "      <td>264346.06</td>\n",
              "      <td>California</td>\n",
              "      <td>126992.93</td>\n",
              "    </tr>\n",
              "    <tr>\n",
              "      <th>17</th>\n",
              "      <td>94657.16</td>\n",
              "      <td>145077.58</td>\n",
              "      <td>282574.31</td>\n",
              "      <td>New York</td>\n",
              "      <td>125370.37</td>\n",
              "    </tr>\n",
              "    <tr>\n",
              "      <th>18</th>\n",
              "      <td>91749.16</td>\n",
              "      <td>114175.79</td>\n",
              "      <td>294919.57</td>\n",
              "      <td>Florida</td>\n",
              "      <td>124266.90</td>\n",
              "    </tr>\n",
              "    <tr>\n",
              "      <th>19</th>\n",
              "      <td>86419.70</td>\n",
              "      <td>153514.11</td>\n",
              "      <td>0.00</td>\n",
              "      <td>New York</td>\n",
              "      <td>122776.86</td>\n",
              "    </tr>\n",
              "    <tr>\n",
              "      <th>20</th>\n",
              "      <td>76253.86</td>\n",
              "      <td>113867.30</td>\n",
              "      <td>298664.47</td>\n",
              "      <td>California</td>\n",
              "      <td>118474.03</td>\n",
              "    </tr>\n",
              "    <tr>\n",
              "      <th>21</th>\n",
              "      <td>78389.47</td>\n",
              "      <td>153773.43</td>\n",
              "      <td>299737.29</td>\n",
              "      <td>New York</td>\n",
              "      <td>111313.02</td>\n",
              "    </tr>\n",
              "    <tr>\n",
              "      <th>22</th>\n",
              "      <td>73994.56</td>\n",
              "      <td>122782.75</td>\n",
              "      <td>303319.26</td>\n",
              "      <td>Florida</td>\n",
              "      <td>110352.25</td>\n",
              "    </tr>\n",
              "    <tr>\n",
              "      <th>23</th>\n",
              "      <td>67532.53</td>\n",
              "      <td>105751.03</td>\n",
              "      <td>304768.73</td>\n",
              "      <td>Florida</td>\n",
              "      <td>108733.99</td>\n",
              "    </tr>\n",
              "    <tr>\n",
              "      <th>24</th>\n",
              "      <td>77044.01</td>\n",
              "      <td>99281.34</td>\n",
              "      <td>140574.81</td>\n",
              "      <td>New York</td>\n",
              "      <td>108552.04</td>\n",
              "    </tr>\n",
              "    <tr>\n",
              "      <th>25</th>\n",
              "      <td>64664.71</td>\n",
              "      <td>139553.16</td>\n",
              "      <td>137962.62</td>\n",
              "      <td>California</td>\n",
              "      <td>107404.34</td>\n",
              "    </tr>\n",
              "    <tr>\n",
              "      <th>26</th>\n",
              "      <td>75328.87</td>\n",
              "      <td>144135.98</td>\n",
              "      <td>134050.07</td>\n",
              "      <td>Florida</td>\n",
              "      <td>105733.54</td>\n",
              "    </tr>\n",
              "    <tr>\n",
              "      <th>27</th>\n",
              "      <td>72107.60</td>\n",
              "      <td>127864.55</td>\n",
              "      <td>353183.81</td>\n",
              "      <td>New York</td>\n",
              "      <td>105008.31</td>\n",
              "    </tr>\n",
              "    <tr>\n",
              "      <th>28</th>\n",
              "      <td>66051.52</td>\n",
              "      <td>182645.56</td>\n",
              "      <td>118148.20</td>\n",
              "      <td>Florida</td>\n",
              "      <td>103282.38</td>\n",
              "    </tr>\n",
              "    <tr>\n",
              "      <th>29</th>\n",
              "      <td>65605.48</td>\n",
              "      <td>153032.06</td>\n",
              "      <td>107138.38</td>\n",
              "      <td>New York</td>\n",
              "      <td>101004.64</td>\n",
              "    </tr>\n",
              "    <tr>\n",
              "      <th>30</th>\n",
              "      <td>61994.48</td>\n",
              "      <td>115641.28</td>\n",
              "      <td>91131.24</td>\n",
              "      <td>Florida</td>\n",
              "      <td>99937.59</td>\n",
              "    </tr>\n",
              "    <tr>\n",
              "      <th>31</th>\n",
              "      <td>61136.38</td>\n",
              "      <td>152701.92</td>\n",
              "      <td>88218.23</td>\n",
              "      <td>New York</td>\n",
              "      <td>97483.56</td>\n",
              "    </tr>\n",
              "    <tr>\n",
              "      <th>32</th>\n",
              "      <td>63408.86</td>\n",
              "      <td>129219.61</td>\n",
              "      <td>46085.25</td>\n",
              "      <td>California</td>\n",
              "      <td>97427.84</td>\n",
              "    </tr>\n",
              "    <tr>\n",
              "      <th>33</th>\n",
              "      <td>55493.95</td>\n",
              "      <td>103057.49</td>\n",
              "      <td>214634.81</td>\n",
              "      <td>Florida</td>\n",
              "      <td>96778.92</td>\n",
              "    </tr>\n",
              "    <tr>\n",
              "      <th>34</th>\n",
              "      <td>46426.07</td>\n",
              "      <td>157693.92</td>\n",
              "      <td>210797.67</td>\n",
              "      <td>California</td>\n",
              "      <td>96712.80</td>\n",
              "    </tr>\n",
              "    <tr>\n",
              "      <th>35</th>\n",
              "      <td>46014.02</td>\n",
              "      <td>85047.44</td>\n",
              "      <td>205517.64</td>\n",
              "      <td>New York</td>\n",
              "      <td>96479.51</td>\n",
              "    </tr>\n",
              "    <tr>\n",
              "      <th>36</th>\n",
              "      <td>28663.76</td>\n",
              "      <td>127056.21</td>\n",
              "      <td>201126.82</td>\n",
              "      <td>Florida</td>\n",
              "      <td>90708.19</td>\n",
              "    </tr>\n",
              "    <tr>\n",
              "      <th>37</th>\n",
              "      <td>44069.95</td>\n",
              "      <td>51283.14</td>\n",
              "      <td>197029.42</td>\n",
              "      <td>California</td>\n",
              "      <td>89949.14</td>\n",
              "    </tr>\n",
              "    <tr>\n",
              "      <th>38</th>\n",
              "      <td>20229.59</td>\n",
              "      <td>65947.93</td>\n",
              "      <td>185265.10</td>\n",
              "      <td>New York</td>\n",
              "      <td>81229.06</td>\n",
              "    </tr>\n",
              "    <tr>\n",
              "      <th>39</th>\n",
              "      <td>38558.51</td>\n",
              "      <td>82982.09</td>\n",
              "      <td>174999.30</td>\n",
              "      <td>California</td>\n",
              "      <td>81005.76</td>\n",
              "    </tr>\n",
              "    <tr>\n",
              "      <th>40</th>\n",
              "      <td>28754.33</td>\n",
              "      <td>118546.05</td>\n",
              "      <td>172795.67</td>\n",
              "      <td>California</td>\n",
              "      <td>78239.91</td>\n",
              "    </tr>\n",
              "    <tr>\n",
              "      <th>41</th>\n",
              "      <td>27892.92</td>\n",
              "      <td>84710.77</td>\n",
              "      <td>164470.71</td>\n",
              "      <td>Florida</td>\n",
              "      <td>77798.83</td>\n",
              "    </tr>\n",
              "    <tr>\n",
              "      <th>42</th>\n",
              "      <td>23640.93</td>\n",
              "      <td>96189.63</td>\n",
              "      <td>148001.11</td>\n",
              "      <td>California</td>\n",
              "      <td>71498.49</td>\n",
              "    </tr>\n",
              "    <tr>\n",
              "      <th>43</th>\n",
              "      <td>15505.73</td>\n",
              "      <td>127382.30</td>\n",
              "      <td>35534.17</td>\n",
              "      <td>New York</td>\n",
              "      <td>69758.98</td>\n",
              "    </tr>\n",
              "    <tr>\n",
              "      <th>44</th>\n",
              "      <td>22177.74</td>\n",
              "      <td>154806.14</td>\n",
              "      <td>28334.72</td>\n",
              "      <td>California</td>\n",
              "      <td>65200.33</td>\n",
              "    </tr>\n",
              "    <tr>\n",
              "      <th>45</th>\n",
              "      <td>1000.23</td>\n",
              "      <td>124153.04</td>\n",
              "      <td>1903.93</td>\n",
              "      <td>New York</td>\n",
              "      <td>64926.08</td>\n",
              "    </tr>\n",
              "    <tr>\n",
              "      <th>46</th>\n",
              "      <td>1315.46</td>\n",
              "      <td>115816.21</td>\n",
              "      <td>297114.46</td>\n",
              "      <td>Florida</td>\n",
              "      <td>49490.75</td>\n",
              "    </tr>\n",
              "    <tr>\n",
              "      <th>47</th>\n",
              "      <td>0.00</td>\n",
              "      <td>135426.92</td>\n",
              "      <td>0.00</td>\n",
              "      <td>California</td>\n",
              "      <td>42559.73</td>\n",
              "    </tr>\n",
              "    <tr>\n",
              "      <th>48</th>\n",
              "      <td>542.05</td>\n",
              "      <td>51743.15</td>\n",
              "      <td>0.00</td>\n",
              "      <td>New York</td>\n",
              "      <td>35673.41</td>\n",
              "    </tr>\n",
              "    <tr>\n",
              "      <th>49</th>\n",
              "      <td>0.00</td>\n",
              "      <td>116983.80</td>\n",
              "      <td>45173.06</td>\n",
              "      <td>California</td>\n",
              "      <td>14681.40</td>\n",
              "    </tr>\n",
              "  </tbody>\n",
              "</table>\n",
              "</div>\n",
              "      <button class=\"colab-df-convert\" onclick=\"convertToInteractive('df-4a44a370-8ebc-40c0-bea5-a90aa3ba4e26')\"\n",
              "              title=\"Convert this dataframe to an interactive table.\"\n",
              "              style=\"display:none;\">\n",
              "        \n",
              "  <svg xmlns=\"http://www.w3.org/2000/svg\" height=\"24px\"viewBox=\"0 0 24 24\"\n",
              "       width=\"24px\">\n",
              "    <path d=\"M0 0h24v24H0V0z\" fill=\"none\"/>\n",
              "    <path d=\"M18.56 5.44l.94 2.06.94-2.06 2.06-.94-2.06-.94-.94-2.06-.94 2.06-2.06.94zm-11 1L8.5 8.5l.94-2.06 2.06-.94-2.06-.94L8.5 2.5l-.94 2.06-2.06.94zm10 10l.94 2.06.94-2.06 2.06-.94-2.06-.94-.94-2.06-.94 2.06-2.06.94z\"/><path d=\"M17.41 7.96l-1.37-1.37c-.4-.4-.92-.59-1.43-.59-.52 0-1.04.2-1.43.59L10.3 9.45l-7.72 7.72c-.78.78-.78 2.05 0 2.83L4 21.41c.39.39.9.59 1.41.59.51 0 1.02-.2 1.41-.59l7.78-7.78 2.81-2.81c.8-.78.8-2.07 0-2.86zM5.41 20L4 18.59l7.72-7.72 1.47 1.35L5.41 20z\"/>\n",
              "  </svg>\n",
              "      </button>\n",
              "      \n",
              "  <style>\n",
              "    .colab-df-container {\n",
              "      display:flex;\n",
              "      flex-wrap:wrap;\n",
              "      gap: 12px;\n",
              "    }\n",
              "\n",
              "    .colab-df-convert {\n",
              "      background-color: #E8F0FE;\n",
              "      border: none;\n",
              "      border-radius: 50%;\n",
              "      cursor: pointer;\n",
              "      display: none;\n",
              "      fill: #1967D2;\n",
              "      height: 32px;\n",
              "      padding: 0 0 0 0;\n",
              "      width: 32px;\n",
              "    }\n",
              "\n",
              "    .colab-df-convert:hover {\n",
              "      background-color: #E2EBFA;\n",
              "      box-shadow: 0px 1px 2px rgba(60, 64, 67, 0.3), 0px 1px 3px 1px rgba(60, 64, 67, 0.15);\n",
              "      fill: #174EA6;\n",
              "    }\n",
              "\n",
              "    [theme=dark] .colab-df-convert {\n",
              "      background-color: #3B4455;\n",
              "      fill: #D2E3FC;\n",
              "    }\n",
              "\n",
              "    [theme=dark] .colab-df-convert:hover {\n",
              "      background-color: #434B5C;\n",
              "      box-shadow: 0px 1px 3px 1px rgba(0, 0, 0, 0.15);\n",
              "      filter: drop-shadow(0px 1px 2px rgba(0, 0, 0, 0.3));\n",
              "      fill: #FFFFFF;\n",
              "    }\n",
              "  </style>\n",
              "\n",
              "      <script>\n",
              "        const buttonEl =\n",
              "          document.querySelector('#df-4a44a370-8ebc-40c0-bea5-a90aa3ba4e26 button.colab-df-convert');\n",
              "        buttonEl.style.display =\n",
              "          google.colab.kernel.accessAllowed ? 'block' : 'none';\n",
              "\n",
              "        async function convertToInteractive(key) {\n",
              "          const element = document.querySelector('#df-4a44a370-8ebc-40c0-bea5-a90aa3ba4e26');\n",
              "          const dataTable =\n",
              "            await google.colab.kernel.invokeFunction('convertToInteractive',\n",
              "                                                     [key], {});\n",
              "          if (!dataTable) return;\n",
              "\n",
              "          const docLinkHtml = 'Like what you see? Visit the ' +\n",
              "            '<a target=\"_blank\" href=https://colab.research.google.com/notebooks/data_table.ipynb>data table notebook</a>'\n",
              "            + ' to learn more about interactive tables.';\n",
              "          element.innerHTML = '';\n",
              "          dataTable['output_type'] = 'display_data';\n",
              "          await google.colab.output.renderOutput(dataTable, element);\n",
              "          const docLink = document.createElement('div');\n",
              "          docLink.innerHTML = docLinkHtml;\n",
              "          element.appendChild(docLink);\n",
              "        }\n",
              "      </script>\n",
              "    </div>\n",
              "  </div>\n",
              "  "
            ]
          },
          "metadata": {},
          "execution_count": 88
        }
      ]
    },
    {
      "cell_type": "code",
      "source": [
        "print(X)"
      ],
      "metadata": {
        "colab": {
          "base_uri": "https://localhost:8080/"
        },
        "id": "1UsqtbG9kbXP",
        "outputId": "83b68014-1a5a-4377-99e3-b33953748666"
      },
      "execution_count": 89,
      "outputs": [
        {
          "output_type": "stream",
          "name": "stdout",
          "text": [
            "    R&D Spend  Administration  Marketing Spend       State\n",
            "0   165349.20       136897.80        471784.10    New York\n",
            "1   162597.70       151377.59        443898.53  California\n",
            "2   153441.51       101145.55        407934.54     Florida\n",
            "3   144372.41       118671.85        383199.62    New York\n",
            "4   142107.34        91391.77        366168.42     Florida\n",
            "5   131876.90        99814.71        362861.36    New York\n",
            "6   134615.46       147198.87        127716.82  California\n",
            "7   130298.13       145530.06        323876.68     Florida\n",
            "8   120542.52       148718.95        311613.29    New York\n",
            "9   123334.88       108679.17        304981.62  California\n",
            "10  101913.08       110594.11        229160.95     Florida\n",
            "11  100671.96        91790.61        249744.55  California\n",
            "12   93863.75       127320.38        249839.44     Florida\n",
            "13   91992.39       135495.07        252664.93  California\n",
            "14  119943.24       156547.42        256512.92     Florida\n",
            "15  114523.61       122616.84        261776.23    New York\n",
            "16   78013.11       121597.55        264346.06  California\n",
            "17   94657.16       145077.58        282574.31    New York\n",
            "18   91749.16       114175.79        294919.57     Florida\n",
            "19   86419.70       153514.11             0.00    New York\n",
            "20   76253.86       113867.30        298664.47  California\n",
            "21   78389.47       153773.43        299737.29    New York\n",
            "22   73994.56       122782.75        303319.26     Florida\n",
            "23   67532.53       105751.03        304768.73     Florida\n",
            "24   77044.01        99281.34        140574.81    New York\n",
            "25   64664.71       139553.16        137962.62  California\n",
            "26   75328.87       144135.98        134050.07     Florida\n",
            "27   72107.60       127864.55        353183.81    New York\n",
            "28   66051.52       182645.56        118148.20     Florida\n",
            "29   65605.48       153032.06        107138.38    New York\n",
            "30   61994.48       115641.28         91131.24     Florida\n",
            "31   61136.38       152701.92         88218.23    New York\n",
            "32   63408.86       129219.61         46085.25  California\n",
            "33   55493.95       103057.49        214634.81     Florida\n",
            "34   46426.07       157693.92        210797.67  California\n",
            "35   46014.02        85047.44        205517.64    New York\n",
            "36   28663.76       127056.21        201126.82     Florida\n",
            "37   44069.95        51283.14        197029.42  California\n",
            "38   20229.59        65947.93        185265.10    New York\n",
            "39   38558.51        82982.09        174999.30  California\n",
            "40   28754.33       118546.05        172795.67  California\n",
            "41   27892.92        84710.77        164470.71     Florida\n",
            "42   23640.93        96189.63        148001.11  California\n",
            "43   15505.73       127382.30         35534.17    New York\n",
            "44   22177.74       154806.14         28334.72  California\n",
            "45    1000.23       124153.04          1903.93    New York\n",
            "46    1315.46       115816.21        297114.46     Florida\n",
            "47       0.00       135426.92             0.00  California\n",
            "48     542.05        51743.15             0.00    New York\n",
            "49       0.00       116983.80         45173.06  California\n"
          ]
        }
      ]
    },
    {
      "cell_type": "code",
      "source": [
        "states = pd.get_dummies(X['State'], drop_first = True) #drop_first = True means we are dropping 1st column that has been created by get_dummies to avoid dummy variable trap\n",
        "X = X.drop('State', axis = 1)\n",
        "X = pd.concat([X,states], axis = 1)\n",
        "print(X)"
      ],
      "metadata": {
        "id": "2HCHVfJIlfNm",
        "colab": {
          "base_uri": "https://localhost:8080/"
        },
        "outputId": "5695ed26-1f24-4ba8-92b2-37906d046768"
      },
      "execution_count": 90,
      "outputs": [
        {
          "output_type": "stream",
          "name": "stdout",
          "text": [
            "    R&D Spend  Administration  Marketing Spend  Florida  New York\n",
            "0   165349.20       136897.80        471784.10        0         1\n",
            "1   162597.70       151377.59        443898.53        0         0\n",
            "2   153441.51       101145.55        407934.54        1         0\n",
            "3   144372.41       118671.85        383199.62        0         1\n",
            "4   142107.34        91391.77        366168.42        1         0\n",
            "5   131876.90        99814.71        362861.36        0         1\n",
            "6   134615.46       147198.87        127716.82        0         0\n",
            "7   130298.13       145530.06        323876.68        1         0\n",
            "8   120542.52       148718.95        311613.29        0         1\n",
            "9   123334.88       108679.17        304981.62        0         0\n",
            "10  101913.08       110594.11        229160.95        1         0\n",
            "11  100671.96        91790.61        249744.55        0         0\n",
            "12   93863.75       127320.38        249839.44        1         0\n",
            "13   91992.39       135495.07        252664.93        0         0\n",
            "14  119943.24       156547.42        256512.92        1         0\n",
            "15  114523.61       122616.84        261776.23        0         1\n",
            "16   78013.11       121597.55        264346.06        0         0\n",
            "17   94657.16       145077.58        282574.31        0         1\n",
            "18   91749.16       114175.79        294919.57        1         0\n",
            "19   86419.70       153514.11             0.00        0         1\n",
            "20   76253.86       113867.30        298664.47        0         0\n",
            "21   78389.47       153773.43        299737.29        0         1\n",
            "22   73994.56       122782.75        303319.26        1         0\n",
            "23   67532.53       105751.03        304768.73        1         0\n",
            "24   77044.01        99281.34        140574.81        0         1\n",
            "25   64664.71       139553.16        137962.62        0         0\n",
            "26   75328.87       144135.98        134050.07        1         0\n",
            "27   72107.60       127864.55        353183.81        0         1\n",
            "28   66051.52       182645.56        118148.20        1         0\n",
            "29   65605.48       153032.06        107138.38        0         1\n",
            "30   61994.48       115641.28         91131.24        1         0\n",
            "31   61136.38       152701.92         88218.23        0         1\n",
            "32   63408.86       129219.61         46085.25        0         0\n",
            "33   55493.95       103057.49        214634.81        1         0\n",
            "34   46426.07       157693.92        210797.67        0         0\n",
            "35   46014.02        85047.44        205517.64        0         1\n",
            "36   28663.76       127056.21        201126.82        1         0\n",
            "37   44069.95        51283.14        197029.42        0         0\n",
            "38   20229.59        65947.93        185265.10        0         1\n",
            "39   38558.51        82982.09        174999.30        0         0\n",
            "40   28754.33       118546.05        172795.67        0         0\n",
            "41   27892.92        84710.77        164470.71        1         0\n",
            "42   23640.93        96189.63        148001.11        0         0\n",
            "43   15505.73       127382.30         35534.17        0         1\n",
            "44   22177.74       154806.14         28334.72        0         0\n",
            "45    1000.23       124153.04          1903.93        0         1\n",
            "46    1315.46       115816.21        297114.46        1         0\n",
            "47       0.00       135426.92             0.00        0         0\n",
            "48     542.05        51743.15             0.00        0         1\n",
            "49       0.00       116983.80         45173.06        0         0\n"
          ]
        }
      ]
    },
    {
      "cell_type": "code",
      "source": [
        "y.shape"
      ],
      "metadata": {
        "colab": {
          "base_uri": "https://localhost:8080/"
        },
        "id": "REGwuVlwFnS8",
        "outputId": "9ac29ac3-3ea7-434f-9f69-72390d3ca5bc"
      },
      "execution_count": 91,
      "outputs": [
        {
          "output_type": "execute_result",
          "data": {
            "text/plain": [
              "(50,)"
            ]
          },
          "metadata": {},
          "execution_count": 91
        }
      ]
    },
    {
      "cell_type": "code",
      "source": [
        "from sklearn.preprocessing import MinMaxScaler\n",
        "sc = MinMaxScaler()\n",
        "X = sc.fit_transform(X)\n",
        "y = sc.fit_transform(y.values.reshape(-1,1))"
      ],
      "metadata": {
        "id": "XFBdg2869OAp"
      },
      "execution_count": 92,
      "outputs": []
    },
    {
      "cell_type": "code",
      "source": [
        "y.shape"
      ],
      "metadata": {
        "colab": {
          "base_uri": "https://localhost:8080/"
        },
        "id": "4Lm0tLxoFjkm",
        "outputId": "e24dbaff-c9d8-46a6-d822-28a1dce48c8f"
      },
      "execution_count": 93,
      "outputs": [
        {
          "output_type": "execute_result",
          "data": {
            "text/plain": [
              "(50, 1)"
            ]
          },
          "metadata": {},
          "execution_count": 93
        }
      ]
    },
    {
      "cell_type": "code",
      "source": [
        "X"
      ],
      "metadata": {
        "colab": {
          "base_uri": "https://localhost:8080/"
        },
        "id": "AXRApbYC1OvX",
        "outputId": "25022de6-26d7-46ed-ab48-28811a1c6f9b"
      },
      "execution_count": 94,
      "outputs": [
        {
          "output_type": "execute_result",
          "data": {
            "text/plain": [
              "array([[1.        , 0.65174393, 1.        , 0.        , 1.        ],\n",
              "       [0.98335946, 0.76197173, 0.94089337, 0.        , 0.        ],\n",
              "       [0.92798459, 0.37957895, 0.8646636 , 1.        , 0.        ],\n",
              "       [0.87313643, 0.51299839, 0.81223513, 0.        , 1.        ],\n",
              "       [0.85943772, 0.30532804, 0.77613557, 1.        , 0.        ],\n",
              "       [0.797566  , 0.3694479 , 0.76912588, 0.        , 1.        ],\n",
              "       [0.81412828, 0.73016111, 0.27071031, 0.        , 0.        ],\n",
              "       [0.7880179 , 0.71745725, 0.68649342, 1.        , 0.        ],\n",
              "       [0.72901786, 0.74173276, 0.66049977, 0.        , 1.        ],\n",
              "       [0.74590551, 0.43692884, 0.64644319, 0.        , 0.        ],\n",
              "       [0.61635061, 0.45150637, 0.48573267, 1.        , 0.        ],\n",
              "       [0.60884455, 0.30836422, 0.52936195, 0.        , 0.        ],\n",
              "       [0.56766982, 0.57883556, 0.52956308, 1.        , 0.        ],\n",
              "       [0.55635219, 0.64106561, 0.53555202, 0.        , 0.        ],\n",
              "       [0.72539353, 0.8013272 , 0.54370828, 1.        , 0.        ],\n",
              "       [0.69261666, 0.54302973, 0.55486446, 0.        , 1.        ],\n",
              "       [0.47180821, 0.53527036, 0.56031151, 0.        , 0.        ],\n",
              "       [0.57246821, 0.71401273, 0.59894835, 0.        , 1.        ],\n",
              "       [0.55488118, 0.47877201, 0.62511553, 1.        , 0.        ],\n",
              "       [0.52264964, 0.77823604, 0.        , 0.        , 1.        ],\n",
              "       [0.46116861, 0.47642362, 0.63305328, 0.        , 0.        ],\n",
              "       [0.47408436, 0.78021012, 0.63532724, 0.        , 1.        ],\n",
              "       [0.4475048 , 0.54429273, 0.64291963, 1.        , 0.        ],\n",
              "       [0.40842369, 0.4146383 , 0.64599195, 1.        , 0.        ],\n",
              "       [0.46594728, 0.3653876 , 0.29796428, 0.        , 1.        ],\n",
              "       [0.39107967, 0.67195793, 0.29242745, 0.        , 0.        ],\n",
              "       [0.45557444, 0.70684477, 0.28413435, 1.        , 0.        ],\n",
              "       [0.43609283, 0.58297807, 0.74861321, 0.        , 1.        ],\n",
              "       [0.39946683, 1.        , 0.25042853, 1.        , 0.        ],\n",
              "       [0.39676926, 0.77456642, 0.22709197, 0.        , 1.        ],\n",
              "       [0.37493063, 0.48992809, 0.19316302, 1.        , 0.        ],\n",
              "       [0.36974101, 0.77205322, 0.18698856, 0.        , 1.        ],\n",
              "       [0.38348453, 0.5932935 , 0.09768292, 0.        , 0.        ],\n",
              "       [0.33561668, 0.39413365, 0.45494286, 1.        , 0.        ],\n",
              "       [0.2807759 , 0.81005496, 0.44680961, 0.        , 0.        ],\n",
              "       [0.2782839 , 0.25703165, 0.43561799, 0.        , 1.        ],\n",
              "       [0.17335288, 0.57682456, 0.42631115, 1.        , 0.        ],\n",
              "       [0.26652654, 0.        , 0.41762624, 0.        , 0.        ],\n",
              "       [0.12234465, 0.11163611, 0.39269043, 0.        , 1.        ],\n",
              "       [0.23319442, 0.24130912, 0.3709309 , 0.        , 0.        ],\n",
              "       [0.17390063, 0.51204073, 0.36626005, 0.        , 0.        ],\n",
              "       [0.16869099, 0.25446874, 0.34861436, 1.        , 0.        ],\n",
              "       [0.14297577, 0.34185188, 0.31370517, 0.        , 0.        ],\n",
              "       [0.09377566, 0.57930693, 0.07531871, 0.        , 1.        ],\n",
              "       [0.13412668, 0.78807166, 0.06005866, 0.        , 0.        ],\n",
              "       [0.0060492 , 0.5547241 , 0.0040356 , 0.        , 1.        ],\n",
              "       [0.00795565, 0.49125975, 0.62976785, 1.        , 0.        ],\n",
              "       [0.        , 0.64054682, 0.        , 0.        , 0.        ],\n",
              "       [0.00327821, 0.00350184, 0.        , 0.        , 1.        ],\n",
              "       [0.        , 0.50014806, 0.09574943, 0.        , 0.        ]])"
            ]
          },
          "metadata": {},
          "execution_count": 94
        }
      ]
    },
    {
      "cell_type": "code",
      "source": [
        "from sklearn.model_selection import train_test_split\n",
        "X_train, X_test, y_train, y_test = train_test_split(X, y, test_size = 0.30, random_state = 10)"
      ],
      "metadata": {
        "id": "OR1SH28JKiMw"
      },
      "execution_count": 95,
      "outputs": []
    },
    {
      "cell_type": "code",
      "source": [
        "X_train.shape"
      ],
      "metadata": {
        "colab": {
          "base_uri": "https://localhost:8080/"
        },
        "id": "JN_DWBz0AKXQ",
        "outputId": "01d9c7a9-7f17-4785-ad82-653ce925bf20"
      },
      "execution_count": 96,
      "outputs": [
        {
          "output_type": "execute_result",
          "data": {
            "text/plain": [
              "(35, 5)"
            ]
          },
          "metadata": {},
          "execution_count": 96
        }
      ]
    },
    {
      "cell_type": "code",
      "source": [
        "from tensorflow.keras.models import Sequential\n",
        "from tensorflow.keras.layers import Dense\n",
        "from tensorflow.keras.optimizers import Adam"
      ],
      "metadata": {
        "id": "m-d-uuYh9rE_"
      },
      "execution_count": 97,
      "outputs": []
    },
    {
      "cell_type": "code",
      "source": [
        "model = Sequential()\n",
        "model.add(Dense(128, input_dim=5, activation='relu', name='input_layer'))\n",
        "model.add(Dense(64, activation='relu', name='hidden_layer_1'))\n",
        "model.add(Dense(1, name='output_layer'))\n",
        "\n",
        "model.compile(loss='mean_squared_error', optimizer=Adam(learning_rate=0.001), metrics=['mean_squared_error'])"
      ],
      "metadata": {
        "id": "l6QHUY41h1Im"
      },
      "execution_count": 98,
      "outputs": []
    },
    {
      "cell_type": "code",
      "source": [
        "model.summary()"
      ],
      "metadata": {
        "colab": {
          "base_uri": "https://localhost:8080/"
        },
        "id": "XsJY-M8KAR-5",
        "outputId": "0f158aeb-c71c-46a1-bd07-deff0f2f97ca"
      },
      "execution_count": 99,
      "outputs": [
        {
          "output_type": "stream",
          "name": "stdout",
          "text": [
            "Model: \"sequential_4\"\n",
            "_________________________________________________________________\n",
            " Layer (type)                Output Shape              Param #   \n",
            "=================================================================\n",
            " input_layer (Dense)         (None, 128)               768       \n",
            "                                                                 \n",
            " hidden_layer_1 (Dense)      (None, 64)                8256      \n",
            "                                                                 \n",
            " output_layer (Dense)        (None, 1)                 65        \n",
            "                                                                 \n",
            "=================================================================\n",
            "Total params: 9,089\n",
            "Trainable params: 9,089\n",
            "Non-trainable params: 0\n",
            "_________________________________________________________________\n"
          ]
        }
      ]
    },
    {
      "cell_type": "code",
      "source": [
        "history = model.fit(X_train, y_train, epochs = 30, batch_size = 10)"
      ],
      "metadata": {
        "colab": {
          "base_uri": "https://localhost:8080/"
        },
        "id": "WC7RZRofiBXY",
        "outputId": "29b281a6-00b9-4db0-8969-f8147e58fdec"
      },
      "execution_count": 100,
      "outputs": [
        {
          "output_type": "stream",
          "name": "stdout",
          "text": [
            "Epoch 1/30\n",
            "4/4 [==============================] - 0s 4ms/step - loss: 0.2198 - mean_squared_error: 0.2198\n",
            "Epoch 2/30\n",
            "4/4 [==============================] - 0s 4ms/step - loss: 0.0816 - mean_squared_error: 0.0816\n",
            "Epoch 3/30\n",
            "4/4 [==============================] - 0s 4ms/step - loss: 0.0435 - mean_squared_error: 0.0435\n",
            "Epoch 4/30\n",
            "4/4 [==============================] - 0s 3ms/step - loss: 0.0404 - mean_squared_error: 0.0404\n",
            "Epoch 5/30\n",
            "4/4 [==============================] - 0s 4ms/step - loss: 0.0306 - mean_squared_error: 0.0306\n",
            "Epoch 6/30\n",
            "4/4 [==============================] - 0s 3ms/step - loss: 0.0184 - mean_squared_error: 0.0184\n",
            "Epoch 7/30\n",
            "4/4 [==============================] - 0s 3ms/step - loss: 0.0147 - mean_squared_error: 0.0147\n",
            "Epoch 8/30\n",
            "4/4 [==============================] - 0s 4ms/step - loss: 0.0134 - mean_squared_error: 0.0134\n",
            "Epoch 9/30\n",
            "4/4 [==============================] - 0s 4ms/step - loss: 0.0100 - mean_squared_error: 0.0100\n",
            "Epoch 10/30\n",
            "4/4 [==============================] - 0s 4ms/step - loss: 0.0068 - mean_squared_error: 0.0068\n",
            "Epoch 11/30\n",
            "4/4 [==============================] - 0s 4ms/step - loss: 0.0053 - mean_squared_error: 0.0053\n",
            "Epoch 12/30\n",
            "4/4 [==============================] - 0s 3ms/step - loss: 0.0049 - mean_squared_error: 0.0049\n",
            "Epoch 13/30\n",
            "4/4 [==============================] - 0s 4ms/step - loss: 0.0043 - mean_squared_error: 0.0043\n",
            "Epoch 14/30\n",
            "4/4 [==============================] - 0s 3ms/step - loss: 0.0039 - mean_squared_error: 0.0039\n",
            "Epoch 15/30\n",
            "4/4 [==============================] - 0s 6ms/step - loss: 0.0035 - mean_squared_error: 0.0035\n",
            "Epoch 16/30\n",
            "4/4 [==============================] - 0s 4ms/step - loss: 0.0033 - mean_squared_error: 0.0033\n",
            "Epoch 17/30\n",
            "4/4 [==============================] - 0s 5ms/step - loss: 0.0029 - mean_squared_error: 0.0029\n",
            "Epoch 18/30\n",
            "4/4 [==============================] - 0s 4ms/step - loss: 0.0029 - mean_squared_error: 0.0029\n",
            "Epoch 19/30\n",
            "4/4 [==============================] - 0s 4ms/step - loss: 0.0027 - mean_squared_error: 0.0027\n",
            "Epoch 20/30\n",
            "4/4 [==============================] - 0s 4ms/step - loss: 0.0025 - mean_squared_error: 0.0025\n",
            "Epoch 21/30\n",
            "4/4 [==============================] - 0s 4ms/step - loss: 0.0024 - mean_squared_error: 0.0024\n",
            "Epoch 22/30\n",
            "4/4 [==============================] - 0s 4ms/step - loss: 0.0023 - mean_squared_error: 0.0023\n",
            "Epoch 23/30\n",
            "4/4 [==============================] - 0s 4ms/step - loss: 0.0023 - mean_squared_error: 0.0023\n",
            "Epoch 24/30\n",
            "4/4 [==============================] - 0s 3ms/step - loss: 0.0022 - mean_squared_error: 0.0022\n",
            "Epoch 25/30\n",
            "4/4 [==============================] - 0s 4ms/step - loss: 0.0021 - mean_squared_error: 0.0021\n",
            "Epoch 26/30\n",
            "4/4 [==============================] - 0s 3ms/step - loss: 0.0020 - mean_squared_error: 0.0020\n",
            "Epoch 27/30\n",
            "4/4 [==============================] - 0s 6ms/step - loss: 0.0019 - mean_squared_error: 0.0019\n",
            "Epoch 28/30\n",
            "4/4 [==============================] - 0s 6ms/step - loss: 0.0019 - mean_squared_error: 0.0019\n",
            "Epoch 29/30\n",
            "4/4 [==============================] - 0s 4ms/step - loss: 0.0018 - mean_squared_error: 0.0018\n",
            "Epoch 30/30\n",
            "4/4 [==============================] - 0s 4ms/step - loss: 0.0017 - mean_squared_error: 0.0017\n"
          ]
        }
      ]
    },
    {
      "cell_type": "code",
      "source": [
        "acd = history.history['mean_squared_error']\n",
        "loss = history.history['loss']"
      ],
      "metadata": {
        "id": "8YbYTScfAU-w"
      },
      "execution_count": 101,
      "outputs": []
    },
    {
      "cell_type": "code",
      "source": [
        "from matplotlib import pyplot as plt\n",
        "plt.plot(acd)\n",
        "plt.title('mean squared error')\n",
        "plt.ylabel('mean_squared_error')\n",
        "plt.xlabel('epoch')\n",
        "plt.legend(['train'], loc = 'upper left')\n",
        "plt.show()\n",
        "plt.savefig('mean_squared_error.png')"
      ],
      "metadata": {
        "colab": {
          "base_uri": "https://localhost:8080/",
          "height": 312
        },
        "id": "e3ABHUwyiEh9",
        "outputId": "d7396243-0585-41f8-ad8a-7eb26be6a1cb"
      },
      "execution_count": 102,
      "outputs": [
        {
          "output_type": "display_data",
          "data": {
            "text/plain": [
              "<Figure size 432x288 with 1 Axes>"
            ],
            "image/png": "[encoded data removed]"
          },
          "metadata": {
            "needs_background": "light"
          }
        },
        {
          "output_type": "display_data",
          "data": {
            "text/plain": [
              "<Figure size 432x288 with 0 Axes>"
            ]
          },
          "metadata": {}
        }
      ]
    },
    {
      "cell_type": "code",
      "source": [
        "plt.plot(history.history['loss'])\n",
        "plt.title('model loss')\n",
        "plt.ylabel('loss')\n",
        "plt.xlabel('epoch')\n",
        "plt.legend(['train'], loc = 'upper left')\n",
        "plt.show()\n",
        "plt.savefig('loss_curve.png')"
      ],
      "metadata": {
        "colab": {
          "base_uri": "https://localhost:8080/",
          "height": 312
        },
        "id": "ths2AqqviEu6",
        "outputId": "3d115bb8-ae45-4af2-fb87-23373db31727"
      },
      "execution_count": 103,
      "outputs": [
        {
          "output_type": "display_data",
          "data": {
            "text/plain": [
              "<Figure size 432x288 with 1 Axes>"
            ],
            "image/png": "[encoded data removed]"
          },
          "metadata": {
            "needs_background": "light"
          }
        },
        {
          "output_type": "display_data",
          "data": {
            "text/plain": [
              "<Figure size 432x288 with 0 Axes>"
            ]
          },
          "metadata": {}
        }
      ]
    },
    {
      "cell_type": "code",
      "source": [
        "history_test = model.evaluate(X_test, y_test)"
      ],
      "metadata": {
        "colab": {
          "base_uri": "https://localhost:8080/"
        },
        "id": "knjCF29wiI5W",
        "outputId": "2b9dd1dd-1548-4c9a-b733-7202a1abbfa6"
      },
      "execution_count": 104,
      "outputs": [
        {
          "output_type": "stream",
          "name": "stdout",
          "text": [
            "WARNING:tensorflow:5 out of the last 5 calls to <function Model.make_test_function.<locals>.test_function at 0x7f47deb599e0> triggered tf.function retracing. Tracing is expensive and the excessive number of tracings could be due to (1) creating @tf.function repeatedly in a loop, (2) passing tensors with different shapes, (3) passing Python objects instead of tensors. For (1), please define your @tf.function outside of the loop. For (2), @tf.function has experimental_relax_shapes=True option that relaxes argument shapes that can avoid unnecessary retracing. For (3), please refer to https://www.tensorflow.org/guide/function#controlling_retracing and https://www.tensorflow.org/api_docs/python/tf/function for  more details.\n",
            "1/1 [==============================] - 0s 111ms/step - loss: 0.0028 - mean_squared_error: 0.0028\n"
          ]
        }
      ]
    },
    {
      "cell_type": "code",
      "source": [
        "history_test"
      ],
      "metadata": {
        "colab": {
          "base_uri": "https://localhost:8080/"
        },
        "id": "Sh1gGTvYiLS9",
        "outputId": "4d11f4f6-5269-4c19-f9e9-597908632803"
      },
      "execution_count": 105,
      "outputs": [
        {
          "output_type": "execute_result",
          "data": {
            "text/plain": [
              "[0.0027847157325595617, 0.0027847157325595617]"
            ]
          },
          "metadata": {},
          "execution_count": 105
        }
      ]
    }
  ]
}